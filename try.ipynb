{
 "cells": [
  {
   "cell_type": "code",
   "execution_count": 2,
   "metadata": {},
   "outputs": [
    {
     "name": "stdout",
     "output_type": "stream",
     "text": [
      "2.5.1+cu124\n",
      "12.4\n"
     ]
    },
    {
     "name": "stderr",
     "output_type": "stream",
     "text": [
      "Using /home/rwkv/.cache/torch_extensions/py312_cu124 as PyTorch extensions root...\n",
      "Creating extension directory /home/rwkv/.cache/torch_extensions/py312_cu124/wkv_cuda...\n",
      "Detected CUDA files, patching ldflags\n",
      "Emitting ninja build file /home/rwkv/.cache/torch_extensions/py312_cu124/wkv_cuda/build.ninja...\n",
      "/home/rwkv/anaconda3/lib/python3.12/site-packages/torch/utils/cpp_extension.py:1964: UserWarning: TORCH_CUDA_ARCH_LIST is not set, all archs for visible cards are included for compilation. \n",
      "If this is not desired, please set os.environ['TORCH_CUDA_ARCH_LIST'].\n",
      "  warnings.warn(\n",
      "Building extension module wkv_cuda...\n",
      "Allowing ninja to set a default number of workers... (overridable by setting the environment variable MAX_JOBS=N)\n"
     ]
    },
    {
     "name": "stdout",
     "output_type": "stream",
     "text": [
      "[1/4] c++ -MMD -MF wrapper.o.d -DTORCH_EXTENSION_NAME=wkv_cuda -DTORCH_API_INCLUDE_EXTENSION_H -DPYBIND11_COMPILER_TYPE=\\\"_gcc\\\" -DPYBIND11_STDLIB=\\\"_libstdcpp\\\" -DPYBIND11_BUILD_ABI=\\\"_cxxabi1011\\\" -isystem /home/rwkv/anaconda3/lib/python3.12/site-packages/torch/include -isystem /home/rwkv/anaconda3/lib/python3.12/site-packages/torch/include/torch/csrc/api/include -isystem /home/rwkv/anaconda3/lib/python3.12/site-packages/torch/include/TH -isystem /home/rwkv/anaconda3/lib/python3.12/site-packages/torch/include/THC -isystem /usr/local/cuda/include -isystem /home/rwkv/anaconda3/include/python3.12 -D_GLIBCXX_USE_CXX11_ABI=0 -fPIC -std=c++17 -c /home/rwkv/RWKV-WORLD/infer/rwkv/cuda/wrapper.cpp -o wrapper.o \n",
      "[2/4] c++ -MMD -MF gemm_fp16_cublas.o.d -DTORCH_EXTENSION_NAME=wkv_cuda -DTORCH_API_INCLUDE_EXTENSION_H -DPYBIND11_COMPILER_TYPE=\\\"_gcc\\\" -DPYBIND11_STDLIB=\\\"_libstdcpp\\\" -DPYBIND11_BUILD_ABI=\\\"_cxxabi1011\\\" -isystem /home/rwkv/anaconda3/lib/python3.12/site-packages/torch/include -isystem /home/rwkv/anaconda3/lib/python3.12/site-packages/torch/include/torch/csrc/api/include -isystem /home/rwkv/anaconda3/lib/python3.12/site-packages/torch/include/TH -isystem /home/rwkv/anaconda3/lib/python3.12/site-packages/torch/include/THC -isystem /usr/local/cuda/include -isystem /home/rwkv/anaconda3/include/python3.12 -D_GLIBCXX_USE_CXX11_ABI=0 -fPIC -std=c++17 -c /home/rwkv/RWKV-WORLD/infer/rwkv/cuda/gemm_fp16_cublas.cpp -o gemm_fp16_cublas.o \n",
      "[3/4] /usr/local/cuda/bin/nvcc --generate-dependencies-with-compile --dependency-output operators.cuda.o.d -DTORCH_EXTENSION_NAME=wkv_cuda -DTORCH_API_INCLUDE_EXTENSION_H -DPYBIND11_COMPILER_TYPE=\\\"_gcc\\\" -DPYBIND11_STDLIB=\\\"_libstdcpp\\\" -DPYBIND11_BUILD_ABI=\\\"_cxxabi1011\\\" -isystem /home/rwkv/anaconda3/lib/python3.12/site-packages/torch/include -isystem /home/rwkv/anaconda3/lib/python3.12/site-packages/torch/include/torch/csrc/api/include -isystem /home/rwkv/anaconda3/lib/python3.12/site-packages/torch/include/TH -isystem /home/rwkv/anaconda3/lib/python3.12/site-packages/torch/include/THC -isystem /usr/local/cuda/include -isystem /home/rwkv/anaconda3/include/python3.12 -D_GLIBCXX_USE_CXX11_ABI=0 -D__CUDA_NO_HALF_OPERATORS__ -D__CUDA_NO_HALF_CONVERSIONS__ -D__CUDA_NO_BFLOAT16_CONVERSIONS__ -D__CUDA_NO_HALF2_OPERATORS__ --expt-relaxed-constexpr -gencode=arch=compute_86,code=compute_86 -gencode=arch=compute_86,code=sm_86 --compiler-options '-fPIC' --use_fast_math -O3 --extra-device-vectorization -std=c++17 -c /home/rwkv/RWKV-WORLD/infer/rwkv/cuda/operators.cu -o operators.cuda.o \n",
      "[4/4] c++ wrapper.o operators.cuda.o gemm_fp16_cublas.o -shared  -L/home/rwkv/anaconda3/lib/python3.12/site-packages/torch/lib -lc10 -lc10_cuda -ltorch_cpu -ltorch_cuda -ltorch -ltorch_python -L/usr/local/cuda/lib64 -lcudart -o wkv_cuda.so\n",
      "\n",
      "### RWKV-7 \"Goose\" enabled ###\n",
      "\n"
     ]
    },
    {
     "name": "stderr",
     "output_type": "stream",
     "text": [
      "Loading extension module wkv_cuda...\n",
      "Using /home/rwkv/.cache/torch_extensions/py312_cu124 as PyTorch extensions root...\n",
      "Creating extension directory /home/rwkv/.cache/torch_extensions/py312_cu124/wkv7s...\n",
      "Detected CUDA files, patching ldflags\n",
      "Emitting ninja build file /home/rwkv/.cache/torch_extensions/py312_cu124/wkv7s/build.ninja...\n",
      "/home/rwkv/anaconda3/lib/python3.12/site-packages/torch/utils/cpp_extension.py:1964: UserWarning: TORCH_CUDA_ARCH_LIST is not set, all archs for visible cards are included for compilation. \n",
      "If this is not desired, please set os.environ['TORCH_CUDA_ARCH_LIST'].\n",
      "  warnings.warn(\n",
      "Building extension module wkv7s...\n",
      "Allowing ninja to set a default number of workers... (overridable by setting the environment variable MAX_JOBS=N)\n"
     ]
    },
    {
     "name": "stdout",
     "output_type": "stream",
     "text": [
      "[1/3] c++ -MMD -MF rwkv7_op.o.d -DTORCH_EXTENSION_NAME=wkv7s -DTORCH_API_INCLUDE_EXTENSION_H -DPYBIND11_COMPILER_TYPE=\\\"_gcc\\\" -DPYBIND11_STDLIB=\\\"_libstdcpp\\\" -DPYBIND11_BUILD_ABI=\\\"_cxxabi1011\\\" -isystem /home/rwkv/anaconda3/lib/python3.12/site-packages/torch/include -isystem /home/rwkv/anaconda3/lib/python3.12/site-packages/torch/include/torch/csrc/api/include -isystem /home/rwkv/anaconda3/lib/python3.12/site-packages/torch/include/TH -isystem /home/rwkv/anaconda3/lib/python3.12/site-packages/torch/include/THC -isystem /usr/local/cuda/include -isystem /home/rwkv/anaconda3/include/python3.12 -D_GLIBCXX_USE_CXX11_ABI=0 -fPIC -std=c++17 -c /home/rwkv/RWKV-WORLD/infer/rwkv/cuda/rwkv7_op.cpp -o rwkv7_op.o \n",
      "[2/3] /usr/local/cuda/bin/nvcc --generate-dependencies-with-compile --dependency-output rwkv7.cuda.o.d -DTORCH_EXTENSION_NAME=wkv7s -DTORCH_API_INCLUDE_EXTENSION_H -DPYBIND11_COMPILER_TYPE=\\\"_gcc\\\" -DPYBIND11_STDLIB=\\\"_libstdcpp\\\" -DPYBIND11_BUILD_ABI=\\\"_cxxabi1011\\\" -isystem /home/rwkv/anaconda3/lib/python3.12/site-packages/torch/include -isystem /home/rwkv/anaconda3/lib/python3.12/site-packages/torch/include/torch/csrc/api/include -isystem /home/rwkv/anaconda3/lib/python3.12/site-packages/torch/include/TH -isystem /home/rwkv/anaconda3/lib/python3.12/site-packages/torch/include/THC -isystem /usr/local/cuda/include -isystem /home/rwkv/anaconda3/include/python3.12 -D_GLIBCXX_USE_CXX11_ABI=0 -D__CUDA_NO_HALF_OPERATORS__ -D__CUDA_NO_HALF_CONVERSIONS__ -D__CUDA_NO_BFLOAT16_CONVERSIONS__ -D__CUDA_NO_HALF2_OPERATORS__ --expt-relaxed-constexpr -gencode=arch=compute_86,code=compute_86 -gencode=arch=compute_86,code=sm_86 --compiler-options '-fPIC' -res-usage --use_fast_math -O3 -Xptxas -O3 --extra-device-vectorization -D_N_=64 -std=c++17 -c /home/rwkv/RWKV-WORLD/infer/rwkv/cuda/rwkv7.cu -o rwkv7.cuda.o \n",
      "ptxas info    : 3 bytes gmem, 24 bytes cmem[4]\n",
      "ptxas info    : Compiling entry function '_Z14kernel_forwardIfEviiiiPfPKT_S3_S3_S3_S3_S3_PS1_' for 'sm_86'\n",
      "ptxas info    : Function properties for _Z14kernel_forwardIfEviiiiPfPKT_S3_S3_S3_S3_S3_PS1_\n",
      "    0 bytes stack frame, 0 bytes spill stores, 0 bytes spill loads\n",
      "ptxas info    : Used 130 registers, 1280 bytes smem, 432 bytes cmem[0]\n",
      "ptxas info    : Compiling entry function '_Z14kernel_forwardIN3c104HalfEEviiiiPfPKT_S5_S5_S5_S5_S5_PS3_' for 'sm_86'\n",
      "ptxas info    : Function properties for _Z14kernel_forwardIN3c104HalfEEviiiiPfPKT_S5_S5_S5_S5_S5_PS3_\n",
      "    0 bytes stack frame, 0 bytes spill stores, 0 bytes spill loads\n",
      "ptxas info    : Used 130 registers, 1280 bytes smem, 432 bytes cmem[0]\n",
      "ptxas info    : Compiling entry function '_Z14kernel_forwardIN3c108BFloat16EEviiiiPfPKT_S5_S5_S5_S5_S5_PS3_' for 'sm_86'\n",
      "ptxas info    : Function properties for _Z14kernel_forwardIN3c108BFloat16EEviiiiPfPKT_S5_S5_S5_S5_S5_PS3_\n",
      "    0 bytes stack frame, 0 bytes spill stores, 0 bytes spill loads\n",
      "ptxas info    : Used 130 registers, 1280 bytes smem, 432 bytes cmem[0]\n",
      "[3/3] c++ rwkv7_op.o rwkv7.cuda.o -shared -L/home/rwkv/anaconda3/lib/python3.12/site-packages/torch/lib -lc10 -lc10_cuda -ltorch_cpu -ltorch_cuda -ltorch -ltorch_python -L/usr/local/cuda/lib64 -lcudart -o wkv7s.so\n",
      "Loading /home/rwkv/model/rwkv-18 (cuda fp16)\n",
      "\n"
     ]
    },
    {
     "name": "stderr",
     "output_type": "stream",
     "text": [
      "Loading extension module wkv7s...\n",
      "/home/rwkv/RWKV-WORLD/infer/rwkv/model.py:244: FutureWarning: You are using `torch.load` with `weights_only=False` (the current default value), which uses the default pickle module implicitly. It is possible to construct malicious pickle data which will execute arbitrary code during unpickling (See https://github.com/pytorch/pytorch/blob/main/SECURITY.md#untrusted-models for more details). In a future release, the default value for `weights_only` will be flipped to `True`. This limits the functions that could be executed during unpickling. Arbitrary objects will no longer be allowed to be loaded via this mode unless they are explicitly allowlisted by the user via `torch.serialization.add_safe_globals`. We recommend you start setting `weights_only=True` for any use case where you don't have full control of the loaded file. Please open an issue on GitHub for any issues related to this experimental feature.\n",
      "  self.z = torch.load(args.MODEL_NAME + '.pth', map_location=DEVICE)\n"
     ]
    },
    {
     "name": "stdout",
     "output_type": "stream",
     "text": [
      "RWKV finish!!!\n"
     ]
    }
   ],
   "source": [
    "import os, sys, torch, time\n",
    "import numpy as np\n",
    "from transformers import AutoModelForCausalLM, AutoTokenizer\n",
    "np.set_printoptions(precision=4, suppress=True, linewidth=200)\n",
    "import torch\n",
    "print(torch.__version__)\n",
    "print(torch.version.cuda)\n",
    "\n",
    "# set these before import RWKV\n",
    "os.environ['RWKV_JIT_ON'] = '1'\n",
    "os.environ[\"RWKV_CUDA_ON\"] = '1' # '1' to compile CUDA kernel (10x faster), requires c++ compiler & cuda libraries\n",
    "CHAT_LANG = 'Chinese'\n",
    "from infer.rwkv.model import RWKV # pip install rwkv\n",
    "from infer.rwkv.utils import PIPELINE, PIPELINE_ARGS\n",
    "\n",
    "model = RWKV(model='/home/rwkv/model/rwkv-18', strategy='cuda fp16')\n",
    "#model ='rwkv'\n",
    "pipeline = PIPELINE(model, \"rwkv_vocab_v20230424\")\n",
    "\n",
    "\n",
    "args = PIPELINE_ARGS(temperature = 1.0, top_p = 0.0, top_k=0, # top_k = 0 then ignore\n",
    "                     alpha_frequency = 0.0,\n",
    "                     alpha_presence = 0.0,\n",
    "                     token_ban = [0], # ban the generation of some tokens\n",
    "                     token_stop = [24], # stop generation whenever you see any token here\n",
    "                     chunk_len = 256) # split input into chunks to save VRAM (shorter -> slower)\n",
    "\n",
    "########################################################################################################\n",
    "print('RWKV finish!!!')"
   ]
  },
  {
   "cell_type": "code",
   "execution_count": 1,
   "metadata": {},
   "outputs": [
    {
     "name": "stdout",
     "output_type": "stream",
     "text": [
      "hf_mod Finish\n"
     ]
    }
   ],
   "source": [
    "import os\n",
    "\n",
    "from world.speech_encoder import SpeechEncoder\n",
    "\n",
    "speech_encoder = SpeechEncoder(\n",
    "    '/home/rwkv/model/audio',\n",
    "    768,\n",
    "    downsample_K=5,\n",
    "    hidden_dim=2048,\n",
    "    train_mode=\"adapter\",\n",
    "    device='cuda',\n",
    ")\n",
    "print(\"hf_mod Finish\")"
   ]
  },
  {
   "cell_type": "code",
   "execution_count": 6,
   "metadata": {},
   "outputs": [
    {
     "name": "stdout",
     "output_type": "stream",
     "text": [
      " 企鹅不会飞。虽然企鹅的祖先可能曾经是飞行鸟类，但随着进化，它们适应了水下游泳和捕食的生活方式。\n"
     ]
    }
   ],
   "source": [
    "import librosa\n",
    "msg = 'Assistant:'\n",
    "\n",
    "mod_path = '/home/rwkv/test/audio-2024-12-25T07-06-09-635Z-okmxsl.wav'\n",
    "audio, sample_rate = librosa.load(mod_path, sr=16000)  # sr=None 保持原采样率\n",
    "y, _ = speech_encoder(audio)\n",
    "result = pipeline.generate(msg, token_count=500, args=args, callback=None, state=None, sign=y)\n",
    "print(result)"
   ]
  },
  {
   "cell_type": "code",
   "execution_count": 4,
   "metadata": {},
   "outputs": [
    {
     "name": "stderr",
     "output_type": "stream",
     "text": [
      "ALSA lib confmisc.c:767:(parse_card) cannot find card '0'\n",
      "ALSA lib conf.c:4732:(_snd_config_evaluate) function snd_func_card_driver returned error: No such file or directory\n",
      "ALSA lib confmisc.c:392:(snd_func_concat) error evaluating strings\n",
      "ALSA lib conf.c:4732:(_snd_config_evaluate) function snd_func_concat returned error: No such file or directory\n",
      "ALSA lib confmisc.c:1246:(snd_func_refer) error evaluating name\n",
      "ALSA lib conf.c:4732:(_snd_config_evaluate) function snd_func_refer returned error: No such file or directory\n",
      "ALSA lib conf.c:5220:(snd_config_expand) Evaluate error: No such file or directory\n",
      "ALSA lib pcm.c:2642:(snd_pcm_open_noupdate) Unknown PCM sysdefault\n",
      "ALSA lib confmisc.c:767:(parse_card) cannot find card '0'\n",
      "ALSA lib conf.c:4732:(_snd_config_evaluate) function snd_func_card_driver returned error: No such file or directory\n",
      "ALSA lib confmisc.c:392:(snd_func_concat) error evaluating strings\n",
      "ALSA lib conf.c:4732:(_snd_config_evaluate) function snd_func_concat returned error: No such file or directory\n",
      "ALSA lib confmisc.c:1246:(snd_func_refer) error evaluating name\n",
      "ALSA lib conf.c:4732:(_snd_config_evaluate) function snd_func_refer returned error: No such file or directory\n",
      "ALSA lib conf.c:5220:(snd_config_expand) Evaluate error: No such file or directory\n",
      "ALSA lib pcm.c:2642:(snd_pcm_open_noupdate) Unknown PCM sysdefault\n",
      "ALSA lib pcm.c:2642:(snd_pcm_open_noupdate) Unknown PCM cards.pcm.front\n",
      "ALSA lib pcm.c:2642:(snd_pcm_open_noupdate) Unknown PCM cards.pcm.rear\n",
      "ALSA lib pcm.c:2642:(snd_pcm_open_noupdate) Unknown PCM cards.pcm.center_lfe\n",
      "ALSA lib pcm.c:2642:(snd_pcm_open_noupdate) Unknown PCM cards.pcm.side\n",
      "ALSA lib pcm.c:2642:(snd_pcm_open_noupdate) Unknown PCM cards.pcm.surround21\n",
      "ALSA lib pcm.c:2642:(snd_pcm_open_noupdate) Unknown PCM cards.pcm.surround21\n",
      "ALSA lib pcm.c:2642:(snd_pcm_open_noupdate) Unknown PCM cards.pcm.surround40\n",
      "ALSA lib pcm.c:2642:(snd_pcm_open_noupdate) Unknown PCM cards.pcm.surround41\n",
      "ALSA lib pcm.c:2642:(snd_pcm_open_noupdate) Unknown PCM cards.pcm.surround50\n",
      "ALSA lib pcm.c:2642:(snd_pcm_open_noupdate) Unknown PCM cards.pcm.surround51\n",
      "ALSA lib pcm.c:2642:(snd_pcm_open_noupdate) Unknown PCM cards.pcm.surround71\n",
      "ALSA lib pcm.c:2642:(snd_pcm_open_noupdate) Unknown PCM cards.pcm.iec958\n",
      "ALSA lib pcm.c:2642:(snd_pcm_open_noupdate) Unknown PCM cards.pcm.iec958\n",
      "ALSA lib pcm.c:2642:(snd_pcm_open_noupdate) Unknown PCM cards.pcm.iec958\n",
      "ALSA lib pcm.c:2642:(snd_pcm_open_noupdate) Unknown PCM cards.pcm.hdmi\n",
      "ALSA lib pcm.c:2642:(snd_pcm_open_noupdate) Unknown PCM cards.pcm.hdmi\n",
      "ALSA lib pcm.c:2642:(snd_pcm_open_noupdate) Unknown PCM cards.pcm.modem\n",
      "ALSA lib pcm.c:2642:(snd_pcm_open_noupdate) Unknown PCM cards.pcm.modem\n",
      "ALSA lib pcm.c:2642:(snd_pcm_open_noupdate) Unknown PCM cards.pcm.phoneline\n",
      "ALSA lib pcm.c:2642:(snd_pcm_open_noupdate) Unknown PCM cards.pcm.phoneline\n",
      "ALSA lib confmisc.c:767:(parse_card) cannot find card '0'\n",
      "ALSA lib conf.c:4732:(_snd_config_evaluate) function snd_func_card_driver returned error: No such file or directory\n",
      "ALSA lib confmisc.c:392:(snd_func_concat) error evaluating strings\n",
      "ALSA lib conf.c:4732:(_snd_config_evaluate) function snd_func_concat returned error: No such file or directory\n",
      "ALSA lib confmisc.c:1246:(snd_func_refer) error evaluating name\n",
      "ALSA lib conf.c:4732:(_snd_config_evaluate) function snd_func_refer returned error: No such file or directory\n",
      "ALSA lib conf.c:5220:(snd_config_expand) Evaluate error: No such file or directory\n",
      "ALSA lib pcm.c:2642:(snd_pcm_open_noupdate) Unknown PCM default\n",
      "ALSA lib confmisc.c:767:(parse_card) cannot find card '0'\n",
      "ALSA lib conf.c:4732:(_snd_config_evaluate) function snd_func_card_driver returned error: No such file or directory\n",
      "ALSA lib confmisc.c:392:(snd_func_concat) error evaluating strings\n",
      "ALSA lib conf.c:4732:(_snd_config_evaluate) function snd_func_concat returned error: No such file or directory\n",
      "ALSA lib confmisc.c:1246:(snd_func_refer) error evaluating name\n",
      "ALSA lib conf.c:4732:(_snd_config_evaluate) function snd_func_refer returned error: No such file or directory\n",
      "ALSA lib conf.c:5220:(snd_config_expand) Evaluate error: No such file or directory\n",
      "ALSA lib pcm.c:2642:(snd_pcm_open_noupdate) Unknown PCM default\n",
      "ALSA lib confmisc.c:767:(parse_card) cannot find card '0'\n",
      "ALSA lib conf.c:4732:(_snd_config_evaluate) function snd_func_card_driver returned error: No such file or directory\n",
      "ALSA lib confmisc.c:392:(snd_func_concat) error evaluating strings\n",
      "ALSA lib conf.c:4732:(_snd_config_evaluate) function snd_func_concat returned error: No such file or directory\n",
      "ALSA lib confmisc.c:1246:(snd_func_refer) error evaluating name\n",
      "ALSA lib conf.c:4732:(_snd_config_evaluate) function snd_func_refer returned error: No such file or directory\n",
      "ALSA lib conf.c:5220:(snd_config_expand) Evaluate error: No such file or directory\n",
      "ALSA lib pcm.c:2642:(snd_pcm_open_noupdate) Unknown PCM dmix\n"
     ]
    },
    {
     "name": "stdout",
     "output_type": "stream",
     "text": [
      "开始录音 5 秒...\n"
     ]
    },
    {
     "ename": "OSError",
     "evalue": "[Errno -9996] Invalid input device (no default output device)",
     "output_type": "error",
     "traceback": [
      "\u001b[0;31m---------------------------------------------------------------------------\u001b[0m",
      "\u001b[0;31mOSError\u001b[0m                                   Traceback (most recent call last)",
      "Cell \u001b[0;32mIn[4], line 47\u001b[0m\n\u001b[1;32m     44\u001b[0m     \u001b[38;5;28mprint\u001b[39m(\u001b[38;5;124mf\u001b[39m\u001b[38;5;124m\"\u001b[39m\u001b[38;5;124m音频已保存为: \u001b[39m\u001b[38;5;132;01m{\u001b[39;00mfilename\u001b[38;5;132;01m}\u001b[39;00m\u001b[38;5;124m\"\u001b[39m)\n\u001b[1;32m     46\u001b[0m \u001b[38;5;66;03m# 使用示例：录制5秒钟\u001b[39;00m\n\u001b[0;32m---> 47\u001b[0m record_audio(seconds\u001b[38;5;241m=\u001b[39m\u001b[38;5;241m5\u001b[39m)\n",
      "Cell \u001b[0;32mIn[4], line 17\u001b[0m, in \u001b[0;36mrecord_audio\u001b[0;34m(filename, seconds)\u001b[0m\n\u001b[1;32m     14\u001b[0m \u001b[38;5;28mprint\u001b[39m(\u001b[38;5;124mf\u001b[39m\u001b[38;5;124m\"\u001b[39m\u001b[38;5;124m开始录音 \u001b[39m\u001b[38;5;132;01m{\u001b[39;00mseconds\u001b[38;5;132;01m}\u001b[39;00m\u001b[38;5;124m 秒...\u001b[39m\u001b[38;5;124m\"\u001b[39m)\n\u001b[1;32m     16\u001b[0m \u001b[38;5;66;03m# 打开音频流\u001b[39;00m\n\u001b[0;32m---> 17\u001b[0m stream \u001b[38;5;241m=\u001b[39m p\u001b[38;5;241m.\u001b[39mopen(\u001b[38;5;28mformat\u001b[39m\u001b[38;5;241m=\u001b[39mFORMAT,\n\u001b[1;32m     18\u001b[0m                 channels\u001b[38;5;241m=\u001b[39mCHANNELS,\n\u001b[1;32m     19\u001b[0m                 rate\u001b[38;5;241m=\u001b[39mRATE,\n\u001b[1;32m     20\u001b[0m                 \u001b[38;5;28minput\u001b[39m\u001b[38;5;241m=\u001b[39m\u001b[38;5;28;01mTrue\u001b[39;00m,\n\u001b[1;32m     21\u001b[0m                 frames_per_buffer\u001b[38;5;241m=\u001b[39mCHUNK)\n\u001b[1;32m     23\u001b[0m \u001b[38;5;66;03m# 录制音频\u001b[39;00m\n\u001b[1;32m     24\u001b[0m frames \u001b[38;5;241m=\u001b[39m []\n",
      "File \u001b[0;32m~/anaconda3/lib/python3.12/site-packages/pyaudio/__init__.py:639\u001b[0m, in \u001b[0;36mPyAudio.open\u001b[0;34m(self, *args, **kwargs)\u001b[0m\n\u001b[1;32m    631\u001b[0m \u001b[38;5;28;01mdef\u001b[39;00m \u001b[38;5;21mopen\u001b[39m(\u001b[38;5;28mself\u001b[39m, \u001b[38;5;241m*\u001b[39margs, \u001b[38;5;241m*\u001b[39m\u001b[38;5;241m*\u001b[39mkwargs):\n\u001b[1;32m    632\u001b[0m \u001b[38;5;250m    \u001b[39m\u001b[38;5;124;03m\"\"\"Opens a new stream.\u001b[39;00m\n\u001b[1;32m    633\u001b[0m \n\u001b[1;32m    634\u001b[0m \u001b[38;5;124;03m    See constructor for :py:func:`PyAudio.Stream.__init__` for parameter\u001b[39;00m\n\u001b[0;32m   (...)\u001b[0m\n\u001b[1;32m    637\u001b[0m \u001b[38;5;124;03m    :returns: A new :py:class:`PyAudio.Stream`\u001b[39;00m\n\u001b[1;32m    638\u001b[0m \u001b[38;5;124;03m    \"\"\"\u001b[39;00m\n\u001b[0;32m--> 639\u001b[0m     stream \u001b[38;5;241m=\u001b[39m PyAudio\u001b[38;5;241m.\u001b[39mStream(\u001b[38;5;28mself\u001b[39m, \u001b[38;5;241m*\u001b[39margs, \u001b[38;5;241m*\u001b[39m\u001b[38;5;241m*\u001b[39mkwargs)\n\u001b[1;32m    640\u001b[0m     \u001b[38;5;28mself\u001b[39m\u001b[38;5;241m.\u001b[39m_streams\u001b[38;5;241m.\u001b[39madd(stream)\n\u001b[1;32m    641\u001b[0m     \u001b[38;5;28;01mreturn\u001b[39;00m stream\n",
      "File \u001b[0;32m~/anaconda3/lib/python3.12/site-packages/pyaudio/__init__.py:441\u001b[0m, in \u001b[0;36mPyAudio.Stream.__init__\u001b[0;34m(self, PA_manager, rate, channels, format, input, output, input_device_index, output_device_index, frames_per_buffer, start, input_host_api_specific_stream_info, output_host_api_specific_stream_info, stream_callback)\u001b[0m\n\u001b[1;32m    438\u001b[0m     arguments[\u001b[38;5;124m'\u001b[39m\u001b[38;5;124mstream_callback\u001b[39m\u001b[38;5;124m'\u001b[39m] \u001b[38;5;241m=\u001b[39m stream_callback\n\u001b[1;32m    440\u001b[0m \u001b[38;5;66;03m# calling pa.open returns a stream object\u001b[39;00m\n\u001b[0;32m--> 441\u001b[0m \u001b[38;5;28mself\u001b[39m\u001b[38;5;241m.\u001b[39m_stream \u001b[38;5;241m=\u001b[39m pa\u001b[38;5;241m.\u001b[39mopen(\u001b[38;5;241m*\u001b[39m\u001b[38;5;241m*\u001b[39marguments)\n\u001b[1;32m    443\u001b[0m \u001b[38;5;28mself\u001b[39m\u001b[38;5;241m.\u001b[39m_input_latency \u001b[38;5;241m=\u001b[39m \u001b[38;5;28mself\u001b[39m\u001b[38;5;241m.\u001b[39m_stream\u001b[38;5;241m.\u001b[39minputLatency\n\u001b[1;32m    444\u001b[0m \u001b[38;5;28mself\u001b[39m\u001b[38;5;241m.\u001b[39m_output_latency \u001b[38;5;241m=\u001b[39m \u001b[38;5;28mself\u001b[39m\u001b[38;5;241m.\u001b[39m_stream\u001b[38;5;241m.\u001b[39moutputLatency\n",
      "\u001b[0;31mOSError\u001b[0m: [Errno -9996] Invalid input device (no default output device)"
     ]
    }
   ],
   "source": [
    "import pyaudio\n",
    "import wave\n",
    "\n",
    "def record_audio(filename=\"output.wav\", seconds=5):\n",
    "    # 设置参数\n",
    "    CHUNK = 1024                # 每个缓冲区的帧数\n",
    "    FORMAT = pyaudio.paInt16    # 采样格式\n",
    "    CHANNELS = 1                # 单声道\n",
    "    RATE = 44100               # 采样率 (Hz)\n",
    "    \n",
    "    # 创建 PyAudio 对象\n",
    "    p = pyaudio.PyAudio()\n",
    "    \n",
    "    print(f\"开始录音 {seconds} 秒...\")\n",
    "    \n",
    "    # 打开音频流\n",
    "    stream = p.open(format=FORMAT,\n",
    "                    channels=CHANNELS,\n",
    "                    rate=RATE,\n",
    "                    input=True,\n",
    "                    frames_per_buffer=CHUNK)\n",
    "    \n",
    "    # 录制音频\n",
    "    frames = []\n",
    "    for i in range(0, int(RATE / CHUNK * seconds)):\n",
    "        data = stream.read(CHUNK)\n",
    "        frames.append(data)\n",
    "    \n",
    "    print(\"录音结束!\")\n",
    "    \n",
    "    # 停止并关闭音频流\n",
    "    stream.stop_stream()\n",
    "    stream.close()\n",
    "    p.terminate()\n",
    "    \n",
    "    # 保存为 WAV 文件\n",
    "    wf = wave.open(filename, 'wb')\n",
    "    wf.setnchannels(CHANNELS)\n",
    "    wf.setsampwidth(p.get_sample_size(FORMAT))\n",
    "    wf.setframerate(RATE)\n",
    "    wf.writeframes(b''.join(frames))\n",
    "    wf.close()\n",
    "    \n",
    "    print(f\"音频已保存为: {filename}\")\n",
    "\n",
    "# 使用示例：录制5秒钟\n",
    "record_audio(seconds=5)\n"
   ]
  }
 ],
 "metadata": {
  "kernelspec": {
   "display_name": "base",
   "language": "python",
   "name": "python3"
  },
  "language_info": {
   "codemirror_mode": {
    "name": "ipython",
    "version": 3
   },
   "file_extension": ".py",
   "mimetype": "text/x-python",
   "name": "python",
   "nbconvert_exporter": "python",
   "pygments_lexer": "ipython3",
   "version": "3.12.7"
  }
 },
 "nbformat": 4,
 "nbformat_minor": 2
}
